{
  "nbformat": 4,
  "nbformat_minor": 0,
  "metadata": {
    "colab": {
      "name": "2LinearRegressionScikit.ipynb",
      "provenance": [],
      "authorship_tag": "ABX9TyOqd7AWwzVAQGYV/RaZ/Z+j",
      "include_colab_link": true
    },
    "kernelspec": {
      "name": "python3",
      "display_name": "Python 3"
    }
  },
  "cells": [
    {
      "cell_type": "markdown",
      "metadata": {
        "id": "view-in-github",
        "colab_type": "text"
      },
      "source": [
        "<a href=\"https://colab.research.google.com/github/Musu1/Udacity_DataScience/blob/master/2LinearRegressionScikit.ipynb\" target=\"_parent\"><img src=\"https://colab.research.google.com/assets/colab-badge.svg\" alt=\"Open In Colab\"/></a>"
      ]
    },
    {
      "cell_type": "code",
      "metadata": {
        "id": "5WQ8J03TFhCB",
        "colab_type": "code",
        "colab": {}
      },
      "source": [
        "import pandas as pd\n",
        "from sklearn.linear_model import LinearRegression"
      ],
      "execution_count": 0,
      "outputs": []
    },
    {
      "cell_type": "code",
      "metadata": {
        "id": "HwRy3pAEOcT0",
        "colab_type": "code",
        "colab": {}
      },
      "source": [
        "# Loading the data\n",
        "bmi_life_Data=pd.read_csv('data.csv');"
      ],
      "execution_count": 0,
      "outputs": []
    },
    {
      "cell_type": "code",
      "metadata": {
        "id": "-UrHrQsVO5G7",
        "colab_type": "code",
        "outputId": "56cc57b8-b499-45dd-922c-81ce4cb916ab",
        "colab": {
          "base_uri": "https://localhost:8080/",
          "height": 34
        }
      },
      "source": [
        "#Creating a LR model and fitting the data to the model\n",
        "bmi_life_model=LinearRegression();\n",
        "bmi_life_model.fit(bmi_life_Data[['BMI']],bmi_life_Data[['Life expectancy']])"
      ],
      "execution_count": 0,
      "outputs": [
        {
          "output_type": "execute_result",
          "data": {
            "text/plain": [
              "LinearRegression(copy_X=True, fit_intercept=True, n_jobs=None, normalize=False)"
            ]
          },
          "metadata": {
            "tags": []
          },
          "execution_count": 6
        }
      ]
    },
    {
      "cell_type": "code",
      "metadata": {
        "id": "_i_QVZIqP39n",
        "colab_type": "code",
        "colab": {}
      },
      "source": [
        "# Predicting Life expectancy for BMI 21.07931\n",
        "laos_life_exp = bmi_life_model.predict([[21.07931]])"
      ],
      "execution_count": 0,
      "outputs": []
    },
    {
      "cell_type": "code",
      "metadata": {
        "id": "xb5z82XjQ2Bv",
        "colab_type": "code",
        "outputId": "9da74df4-b1f2-45ed-bf10-091b426be2a2",
        "colab": {
          "base_uri": "https://localhost:8080/",
          "height": 34
        }
      },
      "source": [
        "print(laos_life_exp)"
      ],
      "execution_count": 0,
      "outputs": [
        {
          "output_type": "stream",
          "text": [
            "[[60.31564716]]\n"
          ],
          "name": "stdout"
        }
      ]
    }
  ]
}