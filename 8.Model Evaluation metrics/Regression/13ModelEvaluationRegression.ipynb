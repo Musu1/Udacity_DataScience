{
  "nbformat": 4,
  "nbformat_minor": 0,
  "metadata": {
    "colab": {
      "name": "ModelEvaluationRegression.ipynb",
      "provenance": [],
      "authorship_tag": "ABX9TyM1ckRJVcJ8JpgFhfd/BEZ1",
      "include_colab_link": true
    },
    "kernelspec": {
      "name": "python3",
      "display_name": "Python 3"
    }
  },
  "cells": [
    {
      "cell_type": "markdown",
      "metadata": {
        "id": "view-in-github",
        "colab_type": "text"
      },
      "source": [
        "<a href=\"https://colab.research.google.com/github/Musu1/Udacity_DataScience/blob/master/ModelEvaluationRegression.ipynb\" target=\"_parent\"><img src=\"https://colab.research.google.com/assets/colab-badge.svg\" alt=\"Open In Colab\"/></a>"
      ]
    },
    {
      "cell_type": "code",
      "metadata": {
        "id": "Smj8-No4EkM-",
        "colab_type": "code",
        "colab": {}
      },
      "source": [
        "from sklearn.datasets import load_boston\n",
        "from sklearn.model_selection import train_test_split"
      ],
      "execution_count": 0,
      "outputs": []
    },
    {
      "cell_type": "code",
      "metadata": {
        "id": "mT0-FZ85GOox",
        "colab_type": "code",
        "colab": {}
      },
      "source": [
        "boston = load_boston()\n",
        "y = boston.target\n",
        "X = boston.data\n",
        "\n",
        "X_train, X_test, y_train, y_test = train_test_split(X, y, test_size=0.33, random_state=42)"
      ],
      "execution_count": 0,
      "outputs": []
    },
    {
      "cell_type": "markdown",
      "metadata": {
        "id": "XxSgVYvRGgp-",
        "colab_type": "text"
      },
      "source": [
        "# Models"
      ]
    },
    {
      "cell_type": "code",
      "metadata": {
        "id": "vCBVCzMTGToy",
        "colab_type": "code",
        "colab": {}
      },
      "source": [
        "from sklearn.ensemble import RandomForestRegressor, AdaBoostRegressor\n",
        "from sklearn.linear_model import LinearRegression\n",
        "from sklearn.tree import DecisionTreeRegressor"
      ],
      "execution_count": 0,
      "outputs": []
    },
    {
      "cell_type": "code",
      "metadata": {
        "id": "9-TnXlKNGjr8",
        "colab_type": "code",
        "colab": {}
      },
      "source": [
        "tree_mod = DecisionTreeRegressor()\n",
        "rf_mod = RandomForestRegressor()\n",
        "ada_mod = AdaBoostRegressor()\n",
        "reg_mod = LinearRegression()"
      ],
      "execution_count": 0,
      "outputs": []
    },
    {
      "cell_type": "code",
      "metadata": {
        "id": "8WgEojGmGm1L",
        "colab_type": "code",
        "colab": {
          "base_uri": "https://localhost:8080/",
          "height": 34
        },
        "outputId": "9bc2f0c0-38be-4b52-9bf6-d54730729bb1"
      },
      "source": [
        "tree_mod.fit(X_train, y_train)\n",
        "rf_mod.fit(X_train, y_train)\n",
        "ada_mod.fit(X_train, y_train)\n",
        "reg_mod.fit(X_train, y_train)"
      ],
      "execution_count": 5,
      "outputs": [
        {
          "output_type": "execute_result",
          "data": {
            "text/plain": [
              "LinearRegression(copy_X=True, fit_intercept=True, n_jobs=None, normalize=False)"
            ]
          },
          "metadata": {
            "tags": []
          },
          "execution_count": 5
        }
      ]
    },
    {
      "cell_type": "code",
      "metadata": {
        "id": "OwunUSaPGrls",
        "colab_type": "code",
        "colab": {}
      },
      "source": [
        "preds_tree = tree_mod.predict(X_test) \n",
        "preds_rf = rf_mod.predict(X_test)\n",
        "preds_ada = ada_mod.predict(X_test)\n",
        "preds_reg = reg_mod.predict(X_test)"
      ],
      "execution_count": 0,
      "outputs": []
    },
    {
      "cell_type": "markdown",
      "metadata": {
        "id": "fsZlTYHDG4RL",
        "colab_type": "text"
      },
      "source": [
        "# **R2_Score**"
      ]
    },
    {
      "cell_type": "code",
      "metadata": {
        "id": "ai3Z_weBG-Gg",
        "colab_type": "code",
        "colab": {}
      },
      "source": [
        "from sklearn.metrics import r2_score, mean_squared_error, mean_absolute_error"
      ],
      "execution_count": 0,
      "outputs": []
    },
    {
      "cell_type": "code",
      "metadata": {
        "id": "PeH7WoWsG_mu",
        "colab_type": "code",
        "colab": {
          "base_uri": "https://localhost:8080/",
          "height": 84
        },
        "outputId": "69d257f2-a29e-4f4d-e41d-92bac493bb68"
      },
      "source": [
        "print('r2 score Decision tree - ',r2_score(y_test,preds_tree))\n",
        "print('r2 score Random Forest - ',r2_score(y_test,preds_rf))\n",
        "print('r2 score adaboost - ',r2_score(y_test,preds_ada))\n",
        "print('r2 score Linear regression - ',r2_score(y_test,preds_reg))"
      ],
      "execution_count": 10,
      "outputs": [
        {
          "output_type": "stream",
          "text": [
            "r2 score Decision tree -  0.7427029587899907\n",
            "r2 score Random Forest -  0.8596811604585493\n",
            "r2 score adaboost -  0.816352560198917\n",
            "r2 score Linear regression -  0.7261570836552481\n"
          ],
          "name": "stdout"
        }
      ]
    },
    {
      "cell_type": "markdown",
      "metadata": {
        "id": "Tu4InbHoH3wQ",
        "colab_type": "text"
      },
      "source": [
        "# **Mean Sqaured Error**"
      ]
    },
    {
      "cell_type": "code",
      "metadata": {
        "id": "bSXr_F6BH8KF",
        "colab_type": "code",
        "colab": {
          "base_uri": "https://localhost:8080/",
          "height": 84
        },
        "outputId": "a8db8cfe-ab4d-46c3-9f54-de40f2060455"
      },
      "source": [
        "print('mean_squared_error Decision tree - ',mean_squared_error(y_test,preds_tree))\n",
        "print('mean_squared_error Random Forest - ',mean_squared_error(y_test,preds_rf))\n",
        "print('mean_squared_error adaboost - ',mean_squared_error(y_test,preds_ada))\n",
        "print('mean_squared_error Linear regression - ',mean_squared_error(y_test,preds_reg))"
      ],
      "execution_count": 11,
      "outputs": [
        {
          "output_type": "stream",
          "text": [
            "mean_squared_error Decision tree -  19.47185628742515\n",
            "mean_squared_error Random Forest -  10.619120473053885\n",
            "mean_squared_error adaboost -  13.898164310570152\n",
            "mean_squared_error Linear regression -  20.724023437339717\n"
          ],
          "name": "stdout"
        }
      ]
    },
    {
      "cell_type": "markdown",
      "metadata": {
        "id": "7KFjuxWPIY5f",
        "colab_type": "text"
      },
      "source": [
        "# **Mean Absolute Error**"
      ]
    },
    {
      "cell_type": "code",
      "metadata": {
        "id": "QUPkeC4tIYH2",
        "colab_type": "code",
        "colab": {
          "base_uri": "https://localhost:8080/",
          "height": 84
        },
        "outputId": "a88ad5ab-b5aa-4395-8ce4-9b0921b03b0a"
      },
      "source": [
        "print('mean_absolute_error Decision tree - ',mean_absolute_error(y_test,preds_tree))\n",
        "print('mean_absolute_error Random Forest - ',mean_absolute_error(y_test,preds_rf))\n",
        "print('mean_absolute_error adaboost - ',mean_absolute_error(y_test,preds_ada))\n",
        "print('mean_absolute_error Linear regression - ',mean_absolute_error(y_test,preds_reg))"
      ],
      "execution_count": 12,
      "outputs": [
        {
          "output_type": "stream",
          "text": [
            "mean_absolute_error Decision tree -  3.021556886227545\n",
            "mean_absolute_error Random Forest -  2.175502994011975\n",
            "mean_absolute_error adaboost -  2.7369386716312385\n",
            "mean_absolute_error Linear regression -  3.148255754816822\n"
          ],
          "name": "stdout"
        }
      ]
    }
  ]
}