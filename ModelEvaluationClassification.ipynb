{
  "nbformat": 4,
  "nbformat_minor": 0,
  "metadata": {
    "colab": {
      "name": "ModelEvaluationClassification.ipynb",
      "provenance": [],
      "authorship_tag": "ABX9TyPAtfAJlDpK/jEb66G30ghf",
      "include_colab_link": true
    },
    "kernelspec": {
      "name": "python3",
      "display_name": "Python 3"
    }
  },
  "cells": [
    {
      "cell_type": "markdown",
      "metadata": {
        "id": "view-in-github",
        "colab_type": "text"
      },
      "source": [
        "<a href=\"https://colab.research.google.com/github/Musu1/Udacity_DataScience/blob/master/ModelEvaluationClassification.ipynb\" target=\"_parent\"><img src=\"https://colab.research.google.com/assets/colab-badge.svg\" alt=\"Open In Colab\"/></a>"
      ]
    },
    {
      "cell_type": "markdown",
      "metadata": {
        "id": "8PVU0dh4xJfU",
        "colab_type": "text"
      },
      "source": [
        "# **Model Evaluation metrics for Classification model**\n",
        "\n",
        "In this example we are using spam classifier data,so if a message is not spam and is sent to spam can result into missing of important message but if message is spam and sent to not spam it won't be a big mistake.\n",
        "\n",
        "In this we are focussing more on **False positive** then on false negative. So in Random forest classifier gives 0 FP and best model for this which can be visualized from confusion matrix.\n",
        "\n",
        "So we will focus more on **precision score** then recall score. as recall score is from first column of confusion matrix but precision score is from first row of confusion matrix(which has false positive).Random forest has 100 percent precision score.\n"
      ]
    },
    {
      "cell_type": "markdown",
      "metadata": {
        "id": "9HUKm26BzFf4",
        "colab_type": "text"
      },
      "source": [
        "# Import"
      ]
    },
    {
      "cell_type": "code",
      "metadata": {
        "id": "ZsO5uejwxf0b",
        "colab_type": "code",
        "colab": {}
      },
      "source": [
        "import pandas as pd\n",
        "import numpy as np\n",
        "from sklearn.model_selection import train_test_split\n",
        "from sklearn.feature_extraction.text import CountVectorizer\n",
        "from sklearn.naive_bayes import MultinomialNB\n",
        "from sklearn.metrics import accuracy_score, precision_score, recall_score, f1_score\n",
        "from sklearn.ensemble import BaggingClassifier, RandomForestClassifier, AdaBoostClassifier\n",
        "from sklearn.svm import SVC\n",
        "import tests as t"
      ],
      "execution_count": 0,
      "outputs": []
    },
    {
      "cell_type": "markdown",
      "metadata": {
        "id": "nuJGXHnGzKM-",
        "colab_type": "text"
      },
      "source": [
        "# PreProcessing"
      ]
    },
    {
      "cell_type": "code",
      "metadata": {
        "id": "zIBHeOw8xtDr",
        "colab_type": "code",
        "colab": {
          "base_uri": "https://localhost:8080/",
          "height": 195
        },
        "outputId": "9db631cc-2e3a-4fc7-d4be-7c240882f7c9"
      },
      "source": [
        "data=pd.read_table('11data',names=['label','messages'])\n",
        "data.loc[:,'label']=data.label.map({'ham':0,'spam':1})\n",
        "data.head()"
      ],
      "execution_count": 2,
      "outputs": [
        {
          "output_type": "execute_result",
          "data": {
            "text/html": [
              "<div>\n",
              "<style scoped>\n",
              "    .dataframe tbody tr th:only-of-type {\n",
              "        vertical-align: middle;\n",
              "    }\n",
              "\n",
              "    .dataframe tbody tr th {\n",
              "        vertical-align: top;\n",
              "    }\n",
              "\n",
              "    .dataframe thead th {\n",
              "        text-align: right;\n",
              "    }\n",
              "</style>\n",
              "<table border=\"1\" class=\"dataframe\">\n",
              "  <thead>\n",
              "    <tr style=\"text-align: right;\">\n",
              "      <th></th>\n",
              "      <th>label</th>\n",
              "      <th>messages</th>\n",
              "    </tr>\n",
              "  </thead>\n",
              "  <tbody>\n",
              "    <tr>\n",
              "      <th>0</th>\n",
              "      <td>0</td>\n",
              "      <td>Go until jurong point, crazy.. Available only ...</td>\n",
              "    </tr>\n",
              "    <tr>\n",
              "      <th>1</th>\n",
              "      <td>0</td>\n",
              "      <td>Ok lar... Joking wif u oni...</td>\n",
              "    </tr>\n",
              "    <tr>\n",
              "      <th>2</th>\n",
              "      <td>1</td>\n",
              "      <td>Free entry in 2 a wkly comp to win FA Cup fina...</td>\n",
              "    </tr>\n",
              "    <tr>\n",
              "      <th>3</th>\n",
              "      <td>0</td>\n",
              "      <td>U dun say so early hor... U c already then say...</td>\n",
              "    </tr>\n",
              "    <tr>\n",
              "      <th>4</th>\n",
              "      <td>0</td>\n",
              "      <td>Nah I don't think he goes to usf, he lives aro...</td>\n",
              "    </tr>\n",
              "  </tbody>\n",
              "</table>\n",
              "</div>"
            ],
            "text/plain": [
              "   label                                           messages\n",
              "0      0  Go until jurong point, crazy.. Available only ...\n",
              "1      0                      Ok lar... Joking wif u oni...\n",
              "2      1  Free entry in 2 a wkly comp to win FA Cup fina...\n",
              "3      0  U dun say so early hor... U c already then say...\n",
              "4      0  Nah I don't think he goes to usf, he lives aro..."
            ]
          },
          "metadata": {
            "tags": []
          },
          "execution_count": 2
        }
      ]
    },
    {
      "cell_type": "markdown",
      "metadata": {
        "id": "J1-UfFXJzPA9",
        "colab_type": "text"
      },
      "source": [
        "# Implementing BoW model\n",
        "\n",
        "\n",
        "\n"
      ]
    },
    {
      "cell_type": "code",
      "metadata": {
        "id": "AIsiDcGIymBp",
        "colab_type": "code",
        "colab": {}
      },
      "source": [
        "x_train,x_test,y_train,y_test=train_test_split(data['messages'],data['label'],random_state=1)\n",
        "vectorizer=CountVectorizer()\n",
        "training_data=vectorizer.fit_transform(x_train)\n",
        "testing_data=vectorizer.transform(x_test)"
      ],
      "execution_count": 0,
      "outputs": []
    },
    {
      "cell_type": "markdown",
      "metadata": {
        "id": "mjwiGsogza8Z",
        "colab_type": "text"
      },
      "source": [
        "# Models"
      ]
    },
    {
      "cell_type": "code",
      "metadata": {
        "id": "5VZXULryzAPw",
        "colab_type": "code",
        "colab": {}
      },
      "source": [
        "naive_bayes = MultinomialNB()\n",
        "bag_mod = BaggingClassifier(n_estimators=200)\n",
        "rf_mod = RandomForestClassifier(n_estimators=200)\n",
        "ada_mod = AdaBoostClassifier(n_estimators=300, learning_rate=0.2)\n",
        "svm_mod = SVC()"
      ],
      "execution_count": 0,
      "outputs": []
    },
    {
      "cell_type": "code",
      "metadata": {
        "id": "dYAoP1Jg0USV",
        "colab_type": "code",
        "colab": {
          "base_uri": "https://localhost:8080/",
          "height": 84
        },
        "outputId": "f6064c9f-1153-4efb-e695-47b3afff7723"
      },
      "source": [
        "naive_bayes.fit(training_data, y_train)\n",
        "bag_mod.fit(training_data, y_train)\n",
        "rf_mod.fit(training_data, y_train)\n",
        "ada_mod.fit(training_data, y_train)\n",
        "svm_mod.fit(training_data, y_train)"
      ],
      "execution_count": 5,
      "outputs": [
        {
          "output_type": "execute_result",
          "data": {
            "text/plain": [
              "SVC(C=1.0, break_ties=False, cache_size=200, class_weight=None, coef0=0.0,\n",
              "    decision_function_shape='ovr', degree=3, gamma='scale', kernel='rbf',\n",
              "    max_iter=-1, probability=False, random_state=None, shrinking=True,\n",
              "    tol=0.001, verbose=False)"
            ]
          },
          "metadata": {
            "tags": []
          },
          "execution_count": 5
        }
      ]
    },
    {
      "cell_type": "code",
      "metadata": {
        "id": "eWMq8i1-3Pyy",
        "colab_type": "code",
        "colab": {}
      },
      "source": [
        "preds_nb = naive_bayes.predict(testing_data)\n",
        "preds_bag = bag_mod.predict(testing_data)\n",
        "preds_rf = rf_mod.predict(testing_data)\n",
        "preds_ada = ada_mod.predict(testing_data)\n",
        "preds_svm = svm_mod.predict(testing_data)"
      ],
      "execution_count": 0,
      "outputs": []
    },
    {
      "cell_type": "markdown",
      "metadata": {
        "id": "gJn9kZrKzjhU",
        "colab_type": "text"
      },
      "source": [
        "# **Confusion Matrix**"
      ]
    },
    {
      "cell_type": "code",
      "metadata": {
        "id": "i56aNPBj3L4Q",
        "colab_type": "code",
        "colab": {
          "base_uri": "https://localhost:8080/",
          "height": 70
        },
        "outputId": "d21f29f2-359a-4a1a-a6d6-5d2d16b4c25e"
      },
      "source": [
        "from sklearn.metrics import confusion_matrix\n",
        "import seaborn as sns\n",
        "import matplotlib.pyplot as plt"
      ],
      "execution_count": 7,
      "outputs": [
        {
          "output_type": "stream",
          "text": [
            "/usr/local/lib/python3.6/dist-packages/statsmodels/tools/_testing.py:19: FutureWarning: pandas.util.testing is deprecated. Use the functions in the public API at pandas.testing instead.\n",
            "  import pandas.util.testing as tm\n"
          ],
          "name": "stderr"
        }
      ]
    },
    {
      "cell_type": "code",
      "metadata": {
        "id": "SGlyKT5p3vYJ",
        "colab_type": "code",
        "colab": {
          "base_uri": "https://localhost:8080/",
          "height": 329
        },
        "outputId": "f7677763-a1c2-4026-eb8c-159d57ff5287"
      },
      "source": [
        "print(confusion_matrix(y_test,preds_nb,labels=[1,0]))\n",
        "sns.heatmap(confusion_matrix(y_test,preds_nb),annot=True,lw =2,cbar=False)\n",
        "plt.ylabel(\"True Values\")\n",
        "plt.xlabel(\"Predicted Values\")\n",
        "plt.title(\"CONFUSSION MATRIX VISUALIZATION\")\n",
        "plt.show()"
      ],
      "execution_count": 8,
      "outputs": [
        {
          "output_type": "stream",
          "text": [
            "[[ 174   11]\n",
            " [   5 1203]]\n"
          ],
          "name": "stdout"
        },
        {
          "output_type": "display_data",
          "data": {
            "image/png": "[encoded data removed]",
            "text/plain": [
              "<Figure size 432x288 with 1 Axes>"
            ]
          },
          "metadata": {
            "tags": [],
            "needs_background": "light"
          }
        }
      ]
    },
    {
      "cell_type": "code",
      "metadata": {
        "id": "E9V6iXhp3_GX",
        "colab_type": "code",
        "colab": {
          "base_uri": "https://localhost:8080/",
          "height": 329
        },
        "outputId": "d12237d9-df5d-4844-a66c-e3fdb7f13d20"
      },
      "source": [
        "print(confusion_matrix(y_test,preds_bag,labels=[1,0]))\n",
        "sns.heatmap(confusion_matrix(y_test,preds_bag),annot=True,lw =2,cbar=False)\n",
        "plt.ylabel(\"True Values\")\n",
        "plt.xlabel(\"Predicted Values\")\n",
        "plt.title(\"CONFUSSION MATRIX VISUALIZATION\")\n",
        "plt.show()"
      ],
      "execution_count": 9,
      "outputs": [
        {
          "output_type": "stream",
          "text": [
            "[[ 166   19]\n",
            " [  17 1191]]\n"
          ],
          "name": "stdout"
        },
        {
          "output_type": "display_data",
          "data": {
            "image/png": "[encoded data removed]",
            "text/plain": [
              "<Figure size 432x288 with 1 Axes>"
            ]
          },
          "metadata": {
            "tags": [],
            "needs_background": "light"
          }
        }
      ]
    },
    {
      "cell_type": "code",
      "metadata": {
        "id": "8Jcy84bR4FIX",
        "colab_type": "code",
        "colab": {
          "base_uri": "https://localhost:8080/",
          "height": 329
        },
        "outputId": "95ecdeaf-2314-49ef-8e8e-ccdccb982a81"
      },
      "source": [
        "print(confusion_matrix(y_test,preds_ada,labels=[1,0]))\n",
        "sns.heatmap(confusion_matrix(y_test,preds_ada),annot=True,lw =2,cbar=False)\n",
        "plt.ylabel(\"True Values\")\n",
        "plt.xlabel(\"Predicted Values\")\n",
        "plt.title(\"CONFUSSION MATRIX VISUALIZATION\")\n",
        "plt.show()"
      ],
      "execution_count": 10,
      "outputs": [
        {
          "output_type": "stream",
          "text": [
            "[[ 158   27]\n",
            " [   5 1203]]\n"
          ],
          "name": "stdout"
        },
        {
          "output_type": "display_data",
          "data": {
            "image/png": "[encoded data removed]",
            "text/plain": [
              "<Figure size 432x288 with 1 Axes>"
            ]
          },
          "metadata": {
            "tags": [],
            "needs_background": "light"
          }
        }
      ]
    },
    {
      "cell_type": "code",
      "metadata": {
        "id": "iEiXE1SL4U3-",
        "colab_type": "code",
        "colab": {
          "base_uri": "https://localhost:8080/",
          "height": 329
        },
        "outputId": "105a0166-e0a5-4e3d-a1e8-cf4a4bf6b934"
      },
      "source": [
        "print(confusion_matrix(y_test,preds_rf,labels=[1,0]))\n",
        "sns.heatmap(confusion_matrix(y_test,preds_rf),annot=True,lw =2,cbar=False)\n",
        "plt.ylabel(\"True Values\")\n",
        "plt.xlabel(\"Predicted Values\")\n",
        "plt.title(\"CONFUSSION MATRIX VISUALIZATION\")\n",
        "plt.show()"
      ],
      "execution_count": 11,
      "outputs": [
        {
          "output_type": "stream",
          "text": [
            "[[ 160   25]\n",
            " [   0 1208]]\n"
          ],
          "name": "stdout"
        },
        {
          "output_type": "display_data",
          "data": {
            "image/png": "[encoded data removed]",
            "text/plain": [
              "<Figure size 432x288 with 1 Axes>"
            ]
          },
          "metadata": {
            "tags": [],
            "needs_background": "light"
          }
        }
      ]
    },
    {
      "cell_type": "code",
      "metadata": {
        "id": "MxPByOwF4e8r",
        "colab_type": "code",
        "colab": {
          "base_uri": "https://localhost:8080/",
          "height": 329
        },
        "outputId": "67286539-4a65-45b6-ccf0-10522282787c"
      },
      "source": [
        "print(confusion_matrix(y_test,preds_svm,labels=[1,0]))\n",
        "sns.heatmap(confusion_matrix(y_test,preds_svm),annot=True,lw =2,cbar=False)\n",
        "plt.ylabel(\"True Values\")\n",
        "plt.xlabel(\"Predicted Values\")\n",
        "plt.title(\"CONFUSSION MATRIX VISUALIZATION\")\n",
        "plt.show()"
      ],
      "execution_count": 12,
      "outputs": [
        {
          "output_type": "stream",
          "text": [
            "[[ 165   20]\n",
            " [   1 1207]]\n"
          ],
          "name": "stdout"
        },
        {
          "output_type": "display_data",
          "data": {
            "image/png": "[encoded data removed]",
            "text/plain": [
              "<Figure size 432x288 with 1 Axes>"
            ]
          },
          "metadata": {
            "tags": [],
            "needs_background": "light"
          }
        }
      ]
    },
    {
      "cell_type": "markdown",
      "metadata": {
        "id": "QcE2NUzu4nt6",
        "colab_type": "text"
      },
      "source": [
        "# **F1 Score**"
      ]
    },
    {
      "cell_type": "code",
      "metadata": {
        "id": "fZQNv6F640br",
        "colab_type": "code",
        "colab": {}
      },
      "source": [
        "from sklearn.metrics import f1_score"
      ],
      "execution_count": 0,
      "outputs": []
    },
    {
      "cell_type": "code",
      "metadata": {
        "id": "4RMTi22043SN",
        "colab_type": "code",
        "colab": {
          "base_uri": "https://localhost:8080/",
          "height": 101
        },
        "outputId": "baabc9f1-18bd-4ac5-d4bd-e8c1b044cc53"
      },
      "source": [
        "print('Naive Bayes F1 Score -',f1_score(y_test,preds_nb))\n",
        "print('Bagging F1 Score -',f1_score(y_test,preds_bag))\n",
        "print('AdaBoost F1 Score -',f1_score(y_test,preds_ada))\n",
        "print('Random Forest F1 Score -',f1_score(y_test,preds_rf))\n",
        "print('SVM F1 Score -',f1_score(y_test,preds_svm))"
      ],
      "execution_count": 16,
      "outputs": [
        {
          "output_type": "stream",
          "text": [
            "Naive Bayes F1 Score - 0.9560439560439562\n",
            "Bagging F1 Score - 0.9021739130434783\n",
            "AdaBoost F1 Score - 0.9080459770114943\n",
            "Random Forest F1 Score - 0.927536231884058\n",
            "SVM F1 Score - 0.9401709401709402\n"
          ],
          "name": "stdout"
        }
      ]
    },
    {
      "cell_type": "markdown",
      "metadata": {
        "id": "P-bwtOD-61h8",
        "colab_type": "text"
      },
      "source": [
        "# **Accuracy Score**"
      ]
    },
    {
      "cell_type": "code",
      "metadata": {
        "id": "svJKKEpU614K",
        "colab_type": "code",
        "colab": {}
      },
      "source": [
        "from sklearn.metrics import accuracy_score"
      ],
      "execution_count": 0,
      "outputs": []
    },
    {
      "cell_type": "code",
      "metadata": {
        "id": "X_cBe6HG8eyX",
        "colab_type": "code",
        "colab": {
          "base_uri": "https://localhost:8080/",
          "height": 101
        },
        "outputId": "ddf5dbb6-80c4-4fbf-e1eb-eaafff824fcb"
      },
      "source": [
        "print('Naive Bayes accuracy_score -',accuracy_score(y_test,preds_nb))\n",
        "print('Bagging accuracy_score -',accuracy_score(y_test,preds_bag))\n",
        "print('AdaBoost accuracy_score -',accuracy_score(y_test,preds_ada))\n",
        "print('Random Forest accuracy_score-',accuracy_score(y_test,preds_rf))\n",
        "print('SVM accuracy_score-',accuracy_score(y_test,preds_svm))"
      ],
      "execution_count": 21,
      "outputs": [
        {
          "output_type": "stream",
          "text": [
            "Naive Bayes accuracy_score - 0.9885139985642498\n",
            "Bagging accuracy_score - 0.9741564967695621\n",
            "AdaBoost accuracy_score - 0.9770279971284996\n",
            "Random Forest accuracy_score- 0.9820531227566404\n",
            "SVM accuracy_score- 0.9849246231155779\n"
          ],
          "name": "stdout"
        }
      ]
    },
    {
      "cell_type": "markdown",
      "metadata": {
        "id": "dCLzvKCe8xj0",
        "colab_type": "text"
      },
      "source": [
        "# **Precision Score**"
      ]
    },
    {
      "cell_type": "code",
      "metadata": {
        "id": "jy-yK9iy819t",
        "colab_type": "code",
        "colab": {}
      },
      "source": [
        "from sklearn.metrics import precision_score"
      ],
      "execution_count": 0,
      "outputs": []
    },
    {
      "cell_type": "code",
      "metadata": {
        "id": "gp3aPin486c0",
        "colab_type": "code",
        "colab": {
          "base_uri": "https://localhost:8080/",
          "height": 101
        },
        "outputId": "d3060883-6436-4b7b-f886-9edfb0911024"
      },
      "source": [
        "print('Naive Bayes precision_score -',precision_score(y_test,preds_nb))\n",
        "print('Bagging precision_score -',precision_score(y_test,preds_bag))\n",
        "print('AdaBoost precision_score -',precision_score(y_test,preds_ada))\n",
        "print('Random Forest precision_score-',precision_score(y_test,preds_rf))\n",
        "print('SVM precision_score-',precision_score(y_test,preds_svm))"
      ],
      "execution_count": 23,
      "outputs": [
        {
          "output_type": "stream",
          "text": [
            "Naive Bayes precision_score - 0.9720670391061452\n",
            "Bagging precision_score - 0.907103825136612\n",
            "AdaBoost precision_score - 0.9693251533742331\n",
            "Random Forest precision_score- 1.0\n",
            "SVM precision_score- 0.9939759036144579\n"
          ],
          "name": "stdout"
        }
      ]
    },
    {
      "cell_type": "markdown",
      "metadata": {
        "id": "bQEQvfPG9HlI",
        "colab_type": "text"
      },
      "source": [
        "# **Recall Score**"
      ]
    },
    {
      "cell_type": "code",
      "metadata": {
        "id": "dVak2woa9Ma0",
        "colab_type": "code",
        "colab": {}
      },
      "source": [
        "from sklearn.metrics import recall_score"
      ],
      "execution_count": 0,
      "outputs": []
    },
    {
      "cell_type": "code",
      "metadata": {
        "id": "Md2W9VD39R6L",
        "colab_type": "code",
        "colab": {
          "base_uri": "https://localhost:8080/",
          "height": 101
        },
        "outputId": "0809adff-c2ba-45d3-f966-d3456267b777"
      },
      "source": [
        "print('Naive Bayes recall_score -',recall_score(y_test,preds_nb))\n",
        "print('Bagging recall_score -',recall_score(y_test,preds_bag))\n",
        "print('AdaBoost recall_score -',recall_score(y_test,preds_ada))\n",
        "print('Random Forest recall_score-',recall_score(y_test,preds_rf))\n",
        "print('SVM recall_score-',recall_score(y_test,preds_svm))"
      ],
      "execution_count": 25,
      "outputs": [
        {
          "output_type": "stream",
          "text": [
            "Naive Bayes recall_score - 0.9405405405405406\n",
            "Bagging recall_score - 0.8972972972972973\n",
            "AdaBoost recall_score - 0.8540540540540541\n",
            "Random Forest recall_score- 0.8648648648648649\n",
            "SVM recall_score- 0.8918918918918919\n"
          ],
          "name": "stdout"
        }
      ]
    },
    {
      "cell_type": "markdown",
      "metadata": {
        "id": "zVaIQD4G9qzj",
        "colab_type": "text"
      },
      "source": [
        "# **FBeta Score**"
      ]
    },
    {
      "cell_type": "code",
      "metadata": {
        "id": "ehKQT14N9u3O",
        "colab_type": "code",
        "colab": {}
      },
      "source": [
        "from sklearn.metrics import fbeta_score"
      ],
      "execution_count": 0,
      "outputs": []
    },
    {
      "cell_type": "code",
      "metadata": {
        "id": "J7pAa2AP93Id",
        "colab_type": "code",
        "colab": {
          "base_uri": "https://localhost:8080/",
          "height": 101
        },
        "outputId": "50504285-1612-4219-c297-96ed633ed448"
      },
      "source": [
        "print('Naive Bayes fbeta_score -',fbeta_score(y_test,preds_nb,beta=1))\n",
        "print('Bagging fbeta_score -',fbeta_score(y_test,preds_bag,beta=1))\n",
        "print('AdaBoost fbeta_score -',fbeta_score(y_test,preds_ada,beta=1))\n",
        "print('Random Forest fbeta_score-',fbeta_score(y_test,preds_rf,beta=1))\n",
        "print('SVM fbeta_score-',fbeta_score(y_test,preds_svm,beta=1))"
      ],
      "execution_count": 28,
      "outputs": [
        {
          "output_type": "stream",
          "text": [
            "Naive Bayes fbeta_score - 0.9560439560439562\n",
            "Bagging fbeta_score - 0.9021739130434783\n",
            "AdaBoost fbeta_score - 0.9080459770114943\n",
            "Random Forest fbeta_score- 0.927536231884058\n",
            "SVM fbeta_score- 0.9401709401709402\n"
          ],
          "name": "stdout"
        }
      ]
    },
    {
      "cell_type": "markdown",
      "metadata": {
        "id": "ZBOhedmU5vib",
        "colab_type": "text"
      },
      "source": [
        "# **Score Report**"
      ]
    },
    {
      "cell_type": "code",
      "metadata": {
        "id": "uvWACkJa52y2",
        "colab_type": "code",
        "colab": {}
      },
      "source": [
        "from sklearn.metrics import classification_report"
      ],
      "execution_count": 0,
      "outputs": []
    },
    {
      "cell_type": "code",
      "metadata": {
        "id": "K8Zfi_ga56t4",
        "colab_type": "code",
        "colab": {
          "base_uri": "https://localhost:8080/",
          "height": 857
        },
        "outputId": "1c7823e4-68c2-4ae3-ca11-a699a03caffe"
      },
      "source": [
        "print('Naive Bayes Report -')\n",
        "print(classification_report(y_test,preds_nb))\n",
        "print('Bagging Report-')\n",
        "print(classification_report(y_test,preds_bag))\n",
        "print('AdaBoost Report -')\n",
        "print(classification_report(y_test,preds_ada))\n",
        "print('Random Forest Report -')\n",
        "print(classification_report(y_test,preds_rf))\n",
        "print('SVM Report -')\n",
        "print(classification_report(y_test,preds_svm))"
      ],
      "execution_count": 19,
      "outputs": [
        {
          "output_type": "stream",
          "text": [
            "Naive Bayes Report -\n",
            "              precision    recall  f1-score   support\n",
            "\n",
            "           0       0.99      1.00      0.99      1208\n",
            "           1       0.97      0.94      0.96       185\n",
            "\n",
            "    accuracy                           0.99      1393\n",
            "   macro avg       0.98      0.97      0.97      1393\n",
            "weighted avg       0.99      0.99      0.99      1393\n",
            "\n",
            "Bagging Report-\n",
            "              precision    recall  f1-score   support\n",
            "\n",
            "           0       0.98      0.99      0.99      1208\n",
            "           1       0.91      0.90      0.90       185\n",
            "\n",
            "    accuracy                           0.97      1393\n",
            "   macro avg       0.95      0.94      0.94      1393\n",
            "weighted avg       0.97      0.97      0.97      1393\n",
            "\n",
            "AdaBoost Report -\n",
            "              precision    recall  f1-score   support\n",
            "\n",
            "           0       0.98      1.00      0.99      1208\n",
            "           1       0.97      0.85      0.91       185\n",
            "\n",
            "    accuracy                           0.98      1393\n",
            "   macro avg       0.97      0.92      0.95      1393\n",
            "weighted avg       0.98      0.98      0.98      1393\n",
            "\n",
            "Random Forest Report -\n",
            "              precision    recall  f1-score   support\n",
            "\n",
            "           0       0.98      1.00      0.99      1208\n",
            "           1       1.00      0.86      0.93       185\n",
            "\n",
            "    accuracy                           0.98      1393\n",
            "   macro avg       0.99      0.93      0.96      1393\n",
            "weighted avg       0.98      0.98      0.98      1393\n",
            "\n",
            "SVM Report -\n",
            "              precision    recall  f1-score   support\n",
            "\n",
            "           0       0.98      1.00      0.99      1208\n",
            "           1       0.99      0.89      0.94       185\n",
            "\n",
            "    accuracy                           0.98      1393\n",
            "   macro avg       0.99      0.95      0.97      1393\n",
            "weighted avg       0.99      0.98      0.98      1393\n",
            "\n"
          ],
          "name": "stdout"
        }
      ]
    }
  ]
}