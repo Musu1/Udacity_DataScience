{
  "nbformat": 4,
  "nbformat_minor": 0,
  "metadata": {
    "colab": {
      "name": "GridSearchDetectingOverfitting.ipynb",
      "provenance": [],
      "authorship_tag": "ABX9TyPAAPdcc8FZwlST7emlmVz8",
      "include_colab_link": true
    },
    "kernelspec": {
      "name": "python3",
      "display_name": "Python 3"
    }
  },
  "cells": [
    {
      "cell_type": "markdown",
      "metadata": {
        "id": "view-in-github",
        "colab_type": "text"
      },
      "source": [
        "<a href=\"https://colab.research.google.com/github/Musu1/Udacity_DataScience/blob/master/GridSearchDetectingOverfitting.ipynb\" target=\"_parent\"><img src=\"https://colab.research.google.com/assets/colab-badge.svg\" alt=\"Open In Colab\"/></a>"
      ]
    },
    {
      "cell_type": "code",
      "metadata": {
        "id": "9H0PSP9h25s2",
        "colab_type": "code",
        "colab": {}
      },
      "source": [
        "import pandas as pd\n",
        "import numpy as np\n",
        "import matplotlib.pyplot as plt"
      ],
      "execution_count": 0,
      "outputs": []
    },
    {
      "cell_type": "code",
      "metadata": {
        "id": "yGwO41VE4NXn",
        "colab_type": "code",
        "colab": {}
      },
      "source": [
        "data=np.asarray(pd.read_csv('data.csv'))\n",
        "x=data[:,0:2]\n",
        "y=data[:,2]"
      ],
      "execution_count": 0,
      "outputs": []
    },
    {
      "cell_type": "code",
      "metadata": {
        "id": "Dh9qQsi140fy",
        "colab_type": "code",
        "colab": {
          "base_uri": "https://localhost:8080/",
          "height": 269
        },
        "outputId": "3e36176a-16ae-4ac6-8a22-537762577b3e"
      },
      "source": [
        "plt.scatter(x[np.argwhere(y==0).flatten(),0], x[np.argwhere(y==0).flatten(),1],s = 50, color = 'blue', edgecolor = 'k')\n",
        "plt.scatter(x[np.argwhere(y==1).flatten(),0], x[np.argwhere(y==1).flatten(),1],s = 50, color = 'red', edgecolor = 'k')\n",
        "plt.xlim(-2.05,2.05)\n",
        "plt.ylim(-2.05,2.05)\n",
        "plt.grid(False)\n",
        "plt.tick_params(\n",
        "    axis='x',\n",
        "    which='both',\n",
        "    bottom='off',\n",
        "    top='off')\n",
        "plt.show()"
      ],
      "execution_count": 29,
      "outputs": [
        {
          "output_type": "display_data",
          "data": {
            "image/png": "[encoded data removed]",
            "text/plain": [
              "<Figure size 432x288 with 1 Axes>"
            ]
          },
          "metadata": {
            "tags": [],
            "needs_background": "light"
          }
        }
      ]
    },
    {
      "cell_type": "markdown",
      "metadata": {
        "id": "x_bJ2PL35itx",
        "colab_type": "text"
      },
      "source": [
        "#**Data preprocessing**"
      ]
    },
    {
      "cell_type": "code",
      "metadata": {
        "id": "kK-ndbp05S6M",
        "colab_type": "code",
        "colab": {}
      },
      "source": [
        "from sklearn.model_selection import train_test_split\n",
        "from sklearn.metrics import f1_score,make_scorer\n",
        "import random\n",
        "\n",
        "random.seed(42)\n",
        "\n",
        "X_train, X_test, y_train, y_test = train_test_split(x, y, test_size=0.2, random_state=42)\n"
      ],
      "execution_count": 0,
      "outputs": []
    },
    {
      "cell_type": "markdown",
      "metadata": {
        "id": "6FUSpOTh6EPb",
        "colab_type": "text"
      },
      "source": [
        "# **Decision tree model**"
      ]
    },
    {
      "cell_type": "code",
      "metadata": {
        "id": "nSHP21sd6DZc",
        "colab_type": "code",
        "colab": {}
      },
      "source": [
        "from sklearn.tree import DecisionTreeClassifier\n",
        "\n",
        "model=DecisionTreeClassifier(random_state=42)\n",
        "model.fit(X_train,y_train)\n",
        "y_train_pred=model.predict(X_train)\n",
        "y_test_pred=model.predict(X_test)"
      ],
      "execution_count": 0,
      "outputs": []
    },
    {
      "cell_type": "code",
      "metadata": {
        "id": "5KX-tCDB76vG",
        "colab_type": "code",
        "colab": {
          "base_uri": "https://localhost:8080/",
          "height": 269
        },
        "outputId": "68117855-aa74-47ef-b9b4-c6cc76609b94"
      },
      "source": [
        "plt.scatter(x[np.argwhere(y==0).flatten(),0],x[np.argwhere(y==0).flatten(),1],s = 50, color = 'blue', edgecolor = 'k')\n",
        "plt.scatter(x[np.argwhere(y==1).flatten(),0],x[np.argwhere(y==1).flatten(),1],s = 50, color = 'red', edgecolor = 'k')\n",
        "plt.xlim(-2.05,2.05)\n",
        "plt.ylim(-2.05,2.05)\n",
        "plt.grid(False)\n",
        "plt.tick_params(\n",
        "    axis='x',\n",
        "    which='both',\n",
        "    bottom='off',\n",
        "    top='off')\n",
        "\n",
        "r = np.linspace(-2.1,2.1,300)\n",
        "s,t = np.meshgrid(r,r)\n",
        "s = np.reshape(s,(np.size(s),1))\n",
        "t = np.reshape(t,(np.size(t),1))\n",
        "h = np.concatenate((s,t),1)\n",
        "\n",
        "z = model.predict(h)\n",
        "\n",
        "s.shape = (np.size(r),np.size(r))\n",
        "t.shape = (np.size(r),np.size(r))\n",
        "z.shape = (np.size(r),np.size(r))\n",
        "\n",
        "plt.contourf(s,t,z,colors = ['blue','red'],alpha = 0.2,levels = range(-1,2))\n",
        "if len(np.unique(z)) > 1:\n",
        "       plt.contour(s,t,z,colors = 'k', linewidths = 2)\n",
        "plt.show()"
      ],
      "execution_count": 32,
      "outputs": [
        {
          "output_type": "display_data",
          "data": {
            "image/png": "[encoded data removed]",
            "text/plain": [
              "<Figure size 432x288 with 1 Axes>"
            ]
          },
          "metadata": {
            "tags": [],
            "needs_background": "light"
          }
        }
      ]
    },
    {
      "cell_type": "code",
      "metadata": {
        "id": "lOgoMHyT9cAy",
        "colab_type": "code",
        "colab": {
          "base_uri": "https://localhost:8080/",
          "height": 50
        },
        "outputId": "cea730c9-3d3b-4c3f-9439-cbb43d490bd6"
      },
      "source": [
        "print('The Training F1 Score is', f1_score(y_train_pred, y_train))\n",
        "print('The Testing F1 Score is', f1_score(y_test_pred, y_test))"
      ],
      "execution_count": 33,
      "outputs": [
        {
          "output_type": "stream",
          "text": [
            "The Training F1 Score is 1.0\n",
            "The Testing F1 Score is 0.75\n"
          ],
          "name": "stdout"
        }
      ]
    },
    {
      "cell_type": "markdown",
      "metadata": {
        "id": "IHK5oEhx9rt2",
        "colab_type": "text"
      },
      "source": [
        "Here we can see overfitting through graph also the training f1 score is 1 while testing f1 score is 0.7 which also shows overfitting. Now we will use grid search to tune hyperparameters and reduce overfitting"
      ]
    },
    {
      "cell_type": "markdown",
      "metadata": {
        "id": "O_trQJQp_seo",
        "colab_type": "text"
      },
      "source": [
        "# **Grid Search**"
      ]
    },
    {
      "cell_type": "code",
      "metadata": {
        "id": "GN9OJd6Z-GBQ",
        "colab_type": "code",
        "colab": {}
      },
      "source": [
        "from sklearn.model_selection import GridSearchCV\n",
        "from sklearn.metrics import make_scorer"
      ],
      "execution_count": 0,
      "outputs": []
    },
    {
      "cell_type": "markdown",
      "metadata": {
        "id": "ytZY8UiKAAXb",
        "colab_type": "text"
      },
      "source": [
        "# **Select the parameters**\n"
      ]
    },
    {
      "cell_type": "code",
      "metadata": {
        "id": "WyQNp0QU_0tg",
        "colab_type": "code",
        "colab": {}
      },
      "source": [
        "model= DecisionTreeClassifier(random_state=42)\n",
        "parameters = {'max_depth':[2,4,6,8,10],'min_samples_leaf':[2,4,6,8,10], 'min_samples_split':[2,4,6,8,10]}"
      ],
      "execution_count": 0,
      "outputs": []
    },
    {
      "cell_type": "markdown",
      "metadata": {
        "id": "kA3PBJYOAKBi",
        "colab_type": "text"
      },
      "source": [
        "# **Create a scorer**"
      ]
    },
    {
      "cell_type": "code",
      "metadata": {
        "id": "auZ-PlWHAIyr",
        "colab_type": "code",
        "colab": {}
      },
      "source": [
        "scorer = make_scorer(f1_score)"
      ],
      "execution_count": 0,
      "outputs": []
    },
    {
      "cell_type": "markdown",
      "metadata": {
        "id": "or8B4oppAdSP",
        "colab_type": "text"
      },
      "source": [
        "# **Create a GridSearch Object with the parameters, and the scorer. Use this object to fit the data**"
      ]
    },
    {
      "cell_type": "code",
      "metadata": {
        "id": "LD_BgHVSAca_",
        "colab_type": "code",
        "colab": {}
      },
      "source": [
        "grid_obj = GridSearchCV(model, parameters, scoring=scorer)\n",
        "grid_fit = grid_obj.fit(X_train, y_train)"
      ],
      "execution_count": 0,
      "outputs": []
    },
    {
      "cell_type": "markdown",
      "metadata": {
        "id": "CEa2ojOuAu_Z",
        "colab_type": "text"
      },
      "source": [
        "# **Get the best estimator**\n"
      ]
    },
    {
      "cell_type": "code",
      "metadata": {
        "id": "I8Is53xTAz9o",
        "colab_type": "code",
        "colab": {}
      },
      "source": [
        "best_model = grid_fit.best_estimator_"
      ],
      "execution_count": 0,
      "outputs": []
    },
    {
      "cell_type": "markdown",
      "metadata": {
        "id": "xWlExXDEA5r3",
        "colab_type": "text"
      },
      "source": [
        "# **Predict with the new model**"
      ]
    },
    {
      "cell_type": "code",
      "metadata": {
        "id": "RI6cFHQEA_05",
        "colab_type": "code",
        "colab": {}
      },
      "source": [
        "best_model.fit(X_train, y_train)\n",
        "y_train_pred_best = best_model.predict(X_train)\n",
        "y_test_pred_best= best_model.predict(X_test)\n"
      ],
      "execution_count": 0,
      "outputs": []
    },
    {
      "cell_type": "code",
      "metadata": {
        "id": "lZDaFvnBCPuY",
        "colab_type": "code",
        "colab": {
          "base_uri": "https://localhost:8080/",
          "height": 50
        },
        "outputId": "b3535e0e-cc9c-4f0a-8e34-7b9eb4f65ea4"
      },
      "source": [
        "print('The Training F1 Score is', f1_score(y_train_pred_best, y_train))\n",
        "print('The Testing F1 Score is', f1_score(y_test_pred_best, y_test))"
      ],
      "execution_count": 40,
      "outputs": [
        {
          "output_type": "stream",
          "text": [
            "The Training F1 Score is 0.8860759493670887\n",
            "The Testing F1 Score is 0.75\n"
          ],
          "name": "stdout"
        }
      ]
    },
    {
      "cell_type": "code",
      "metadata": {
        "id": "OGWRThrtC8bV",
        "colab_type": "code",
        "colab": {
          "base_uri": "https://localhost:8080/",
          "height": 269
        },
        "outputId": "3f86c67e-06f6-4e41-d9c3-b2ac46409e4e"
      },
      "source": [
        "plt.scatter(x[np.argwhere(y==0).flatten(),0],x[np.argwhere(y==0).flatten(),1],s = 50, color = 'blue', edgecolor = 'k')\n",
        "plt.scatter(x[np.argwhere(y==1).flatten(),0],x[np.argwhere(y==1).flatten(),1],s = 50, color = 'red', edgecolor = 'k')\n",
        "plt.xlim(-2.05,2.05)\n",
        "plt.ylim(-2.05,2.05)\n",
        "plt.grid(False)\n",
        "plt.tick_params(\n",
        "    axis='x',\n",
        "    which='both',\n",
        "    bottom='off',\n",
        "    top='off')\n",
        "\n",
        "r = np.linspace(-2.1,2.1,300)\n",
        "s,t = np.meshgrid(r,r)\n",
        "s = np.reshape(s,(np.size(s),1))\n",
        "t = np.reshape(t,(np.size(t),1))\n",
        "h = np.concatenate((s,t),1)\n",
        "\n",
        "z = best_model.predict(h)\n",
        "\n",
        "s.shape = (np.size(r),np.size(r))\n",
        "t.shape = (np.size(r),np.size(r))\n",
        "z.shape = (np.size(r),np.size(r))\n",
        "\n",
        "plt.contourf(s,t,z,colors = ['blue','red'],alpha = 0.2,levels = range(-1,2))\n",
        "if len(np.unique(z)) > 1:\n",
        "       plt.contour(s,t,z,colors = 'k', linewidths = 2)\n",
        "plt.show()"
      ],
      "execution_count": 42,
      "outputs": [
        {
          "output_type": "display_data",
          "data": {
            "image/png": "[encoded data removed]",
            "text/plain": [
              "<Figure size 432x288 with 1 Axes>"
            ]
          },
          "metadata": {
            "tags": [],
            "needs_background": "light"
          }
        }
      ]
    }
  ]
}