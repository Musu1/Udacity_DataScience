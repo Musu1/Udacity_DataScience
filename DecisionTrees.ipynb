{
  "nbformat": 4,
  "nbformat_minor": 0,
  "metadata": {
    "colab": {
      "name": "DecisionTrees.ipynb",
      "provenance": [],
      "toc_visible": true,
      "authorship_tag": "ABX9TyN89e398MC0cqBjnk0XLS+s",
      "include_colab_link": true
    },
    "kernelspec": {
      "name": "python3",
      "display_name": "Python 3"
    }
  },
  "cells": [
    {
      "cell_type": "markdown",
      "metadata": {
        "id": "view-in-github",
        "colab_type": "text"
      },
      "source": [
        "<a href=\"https://colab.research.google.com/github/Musu1/Udacity_DataScience/blob/master/DecisionTrees.ipynb\" target=\"_parent\"><img src=\"https://colab.research.google.com/assets/colab-badge.svg\" alt=\"Open In Colab\"/></a>"
      ]
    },
    {
      "cell_type": "code",
      "metadata": {
        "id": "ng4sR2k3LTPE",
        "colab_type": "code",
        "colab": {}
      },
      "source": [
        "from sklearn.tree import DecisionTreeClassifier\n",
        "from sklearn.metrics import accuracy_score\n",
        "import pandas as pd\n",
        "import numpy as np\n",
        "from sklearn import tree"
      ],
      "execution_count": 0,
      "outputs": []
    },
    {
      "cell_type": "code",
      "metadata": {
        "id": "mdzpwx-fVP2R",
        "colab_type": "code",
        "colab": {}
      },
      "source": [
        "model=DecisionTreeClassifier(max_depth=15,min_samples_leaf=2)"
      ],
      "execution_count": 0,
      "outputs": []
    },
    {
      "cell_type": "code",
      "metadata": {
        "id": "Vq6uZlHNVTvr",
        "colab_type": "code",
        "colab": {}
      },
      "source": [
        "data=np.asarray(pd.read_csv('decisionTree.csv'))"
      ],
      "execution_count": 0,
      "outputs": []
    },
    {
      "cell_type": "code",
      "metadata": {
        "id": "zo09Ey2beM6-",
        "colab_type": "code",
        "colab": {}
      },
      "source": [
        "x=data[:,0:2]\n",
        "y=data[:,2]"
      ],
      "execution_count": 0,
      "outputs": []
    },
    {
      "cell_type": "code",
      "metadata": {
        "id": "iGBvaF1qem6g",
        "colab_type": "code",
        "colab": {
          "base_uri": "https://localhost:8080/",
          "height": 118
        },
        "outputId": "9f85c02d-29af-40f9-8df4-d898b391363c"
      },
      "source": [
        "model.fit(x,y)"
      ],
      "execution_count": 46,
      "outputs": [
        {
          "output_type": "execute_result",
          "data": {
            "text/plain": [
              "DecisionTreeClassifier(ccp_alpha=0.0, class_weight=None, criterion='gini',\n",
              "                       max_depth=15, max_features=None, max_leaf_nodes=None,\n",
              "                       min_impurity_decrease=0.0, min_impurity_split=None,\n",
              "                       min_samples_leaf=2, min_samples_split=2,\n",
              "                       min_weight_fraction_leaf=0.0, presort='deprecated',\n",
              "                       random_state=None, splitter='best')"
            ]
          },
          "metadata": {
            "tags": []
          },
          "execution_count": 46
        }
      ]
    },
    {
      "cell_type": "code",
      "metadata": {
        "id": "4QqAeKuQe0ah",
        "colab_type": "code",
        "colab": {}
      },
      "source": [
        "y_pred=model.predict(x)\n",
        "acc=accuracy_score(y,y_pred)"
      ],
      "execution_count": 0,
      "outputs": []
    },
    {
      "cell_type": "code",
      "metadata": {
        "id": "UMitrrEufE2n",
        "colab_type": "code",
        "colab": {
          "base_uri": "https://localhost:8080/",
          "height": 34
        },
        "outputId": "cf57605d-c3bd-4388-da5f-db8d5c53715a"
      },
      "source": [
        "acc \n",
        "#Accuracy can come 1 if we remove hyper parameter from model or change them accordinly"
      ],
      "execution_count": 48,
      "outputs": [
        {
          "output_type": "execute_result",
          "data": {
            "text/plain": [
              "0.9894736842105263"
            ]
          },
          "metadata": {
            "tags": []
          },
          "execution_count": 48
        }
      ]
    },
    {
      "cell_type": "code",
      "metadata": {
        "id": "L4BSdztefHGy",
        "colab_type": "code",
        "colab": {
          "base_uri": "https://localhost:8080/",
          "height": 567
        },
        "outputId": "e9ef54bc-ccec-41c0-b910-ee683dc01c38"
      },
      "source": [
        "tree.plot_tree(model.fit(x, y)) "
      ],
      "execution_count": 49,
      "outputs": [
        {
          "output_type": "execute_result",
          "data": {
            "text/plain": [
              "[Text(133.92000000000002, 201.90857142857143, 'X[1] <= 0.827\\ngini = 0.44\\nsamples = 95\\nvalue = [31, 64]'),\n",
              " Text(100.44000000000001, 170.84571428571428, 'X[0] <= 0.198\\ngini = 0.483\\nsamples = 76\\nvalue = [31, 45]'),\n",
              " Text(66.96000000000001, 139.78285714285715, 'gini = 0.0\\nsamples = 15\\nvalue = [0, 15]'),\n",
              " Text(133.92000000000002, 139.78285714285715, 'X[1] <= 0.442\\ngini = 0.5\\nsamples = 61\\nvalue = [31, 30]'),\n",
              " Text(66.96000000000001, 108.72, 'X[0] <= 0.599\\ngini = 0.4\\nsamples = 29\\nvalue = [8, 21]'),\n",
              " Text(33.480000000000004, 77.65714285714284, 'gini = 0.0\\nsamples = 13\\nvalue = [0, 13]'),\n",
              " Text(100.44000000000001, 77.65714285714284, 'X[0] <= 0.735\\ngini = 0.5\\nsamples = 16\\nvalue = [8, 8]'),\n",
              " Text(66.96000000000001, 46.59428571428572, 'gini = 0.0\\nsamples = 7\\nvalue = [7, 0]'),\n",
              " Text(133.92000000000002, 46.59428571428572, 'X[0] <= 0.815\\ngini = 0.198\\nsamples = 9\\nvalue = [1, 8]'),\n",
              " Text(100.44000000000001, 15.531428571428563, 'gini = 0.5\\nsamples = 2\\nvalue = [1, 1]'),\n",
              " Text(167.40000000000003, 15.531428571428563, 'gini = 0.0\\nsamples = 7\\nvalue = [0, 7]'),\n",
              " Text(200.88000000000002, 108.72, 'X[0] <= 0.424\\ngini = 0.404\\nsamples = 32\\nvalue = [23, 9]'),\n",
              " Text(167.40000000000003, 77.65714285714284, 'gini = 0.0\\nsamples = 15\\nvalue = [15, 0]'),\n",
              " Text(234.36, 77.65714285714284, 'X[0] <= 0.659\\ngini = 0.498\\nsamples = 17\\nvalue = [8, 9]'),\n",
              " Text(200.88000000000002, 46.59428571428572, 'gini = 0.0\\nsamples = 7\\nvalue = [0, 7]'),\n",
              " Text(267.84000000000003, 46.59428571428572, 'X[0] <= 0.84\\ngini = 0.32\\nsamples = 10\\nvalue = [8, 2]'),\n",
              " Text(234.36, 15.531428571428563, 'gini = 0.0\\nsamples = 8\\nvalue = [8, 0]'),\n",
              " Text(301.32000000000005, 15.531428571428563, 'gini = 0.0\\nsamples = 2\\nvalue = [0, 2]'),\n",
              " Text(167.40000000000003, 170.84571428571428, 'gini = 0.0\\nsamples = 19\\nvalue = [0, 19]')]"
            ]
          },
          "metadata": {
            "tags": []
          },
          "execution_count": 49
        },
        {
          "output_type": "display_data",
          "data": {
            "image/png": "[encoded data removed]",
            "text/plain": [
              "<Figure size 432x288 with 1 Axes>"
            ]
          },
          "metadata": {
            "tags": [],
            "needs_background": "light"
          }
        }
      ]
    }
  ]
}