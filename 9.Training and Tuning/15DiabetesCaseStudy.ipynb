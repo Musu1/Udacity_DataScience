{
  "nbformat": 4,
  "nbformat_minor": 0,
  "metadata": {
    "colab": {
      "name": "DiabetesCaseStudy.ipynb",
      "provenance": [],
      "authorship_tag": "ABX9TyNmTLlLTDRdWKr54PJ/C419",
      "include_colab_link": true
    },
    "kernelspec": {
      "name": "python3",
      "display_name": "Python 3"
    }
  },
  "cells": [
    {
      "cell_type": "markdown",
      "metadata": {
        "id": "view-in-github",
        "colab_type": "text"
      },
      "source": [
        "<a href=\"https://colab.research.google.com/github/Musu1/Udacity_DataScience/blob/master/DiabetesCaseStudy.ipynb\" target=\"_parent\"><img src=\"https://colab.research.google.com/assets/colab-badge.svg\" alt=\"Open In Colab\"/></a>"
      ]
    },
    {
      "cell_type": "code",
      "metadata": {
        "id": "lxYQmIdqFIoR",
        "colab_type": "code",
        "colab": {}
      },
      "source": [
        "import pandas as pd\n",
        "import numpy as np\n",
        "from sklearn.datasets import load_diabetes\n",
        "from sklearn.model_selection import train_test_split, RandomizedSearchCV\n",
        "from sklearn.metrics import accuracy_score, precision_score, recall_score, f1_score\n",
        "from sklearn.ensemble import RandomForestClassifier, AdaBoostClassifier\n",
        "import matplotlib.pyplot as plt\n",
        "from sklearn.svm import SVC"
      ],
      "execution_count": 0,
      "outputs": []
    },
    {
      "cell_type": "code",
      "metadata": {
        "id": "Y1qi_dj9Fydk",
        "colab_type": "code",
        "colab": {
          "base_uri": "https://localhost:8080/",
          "height": 195
        },
        "outputId": "a74b0f5f-e2b4-4896-9fbe-c8c6a3e89f76"
      },
      "source": [
        "data=pd.read_csv('diabetes.csv')\n",
        "data.head()"
      ],
      "execution_count": 17,
      "outputs": [
        {
          "output_type": "execute_result",
          "data": {
            "text/html": [
              "<div>\n",
              "<style scoped>\n",
              "    .dataframe tbody tr th:only-of-type {\n",
              "        vertical-align: middle;\n",
              "    }\n",
              "\n",
              "    .dataframe tbody tr th {\n",
              "        vertical-align: top;\n",
              "    }\n",
              "\n",
              "    .dataframe thead th {\n",
              "        text-align: right;\n",
              "    }\n",
              "</style>\n",
              "<table border=\"1\" class=\"dataframe\">\n",
              "  <thead>\n",
              "    <tr style=\"text-align: right;\">\n",
              "      <th></th>\n",
              "      <th>Pregnancies</th>\n",
              "      <th>Glucose</th>\n",
              "      <th>BloodPressure</th>\n",
              "      <th>SkinThickness</th>\n",
              "      <th>Insulin</th>\n",
              "      <th>BMI</th>\n",
              "      <th>DiabetesPedigreeFunction</th>\n",
              "      <th>Age</th>\n",
              "      <th>Outcome</th>\n",
              "    </tr>\n",
              "  </thead>\n",
              "  <tbody>\n",
              "    <tr>\n",
              "      <th>0</th>\n",
              "      <td>6</td>\n",
              "      <td>148</td>\n",
              "      <td>72</td>\n",
              "      <td>35</td>\n",
              "      <td>0</td>\n",
              "      <td>33.6</td>\n",
              "      <td>0.627</td>\n",
              "      <td>50</td>\n",
              "      <td>1</td>\n",
              "    </tr>\n",
              "    <tr>\n",
              "      <th>1</th>\n",
              "      <td>1</td>\n",
              "      <td>85</td>\n",
              "      <td>66</td>\n",
              "      <td>29</td>\n",
              "      <td>0</td>\n",
              "      <td>26.6</td>\n",
              "      <td>0.351</td>\n",
              "      <td>31</td>\n",
              "      <td>0</td>\n",
              "    </tr>\n",
              "    <tr>\n",
              "      <th>2</th>\n",
              "      <td>8</td>\n",
              "      <td>183</td>\n",
              "      <td>64</td>\n",
              "      <td>0</td>\n",
              "      <td>0</td>\n",
              "      <td>23.3</td>\n",
              "      <td>0.672</td>\n",
              "      <td>32</td>\n",
              "      <td>1</td>\n",
              "    </tr>\n",
              "    <tr>\n",
              "      <th>3</th>\n",
              "      <td>1</td>\n",
              "      <td>89</td>\n",
              "      <td>66</td>\n",
              "      <td>23</td>\n",
              "      <td>94</td>\n",
              "      <td>28.1</td>\n",
              "      <td>0.167</td>\n",
              "      <td>21</td>\n",
              "      <td>0</td>\n",
              "    </tr>\n",
              "    <tr>\n",
              "      <th>4</th>\n",
              "      <td>0</td>\n",
              "      <td>137</td>\n",
              "      <td>40</td>\n",
              "      <td>35</td>\n",
              "      <td>168</td>\n",
              "      <td>43.1</td>\n",
              "      <td>2.288</td>\n",
              "      <td>33</td>\n",
              "      <td>1</td>\n",
              "    </tr>\n",
              "  </tbody>\n",
              "</table>\n",
              "</div>"
            ],
            "text/plain": [
              "   Pregnancies  Glucose  BloodPressure  ...  DiabetesPedigreeFunction  Age  Outcome\n",
              "0            6      148             72  ...                     0.627   50        1\n",
              "1            1       85             66  ...                     0.351   31        0\n",
              "2            8      183             64  ...                     0.672   32        1\n",
              "3            1       89             66  ...                     0.167   21        0\n",
              "4            0      137             40  ...                     2.288   33        1\n",
              "\n",
              "[5 rows x 9 columns]"
            ]
          },
          "metadata": {
            "tags": []
          },
          "execution_count": 17
        }
      ]
    },
    {
      "cell_type": "code",
      "metadata": {
        "id": "guSo9Jt7GNRx",
        "colab_type": "code",
        "colab": {}
      },
      "source": [
        "y=data['Outcome']\n",
        "x=data[['Pregnancies','Glucose','BloodPressure','SkinThickness','Insulin','BMI','DiabetesPedigreeFunction','Age']]\n",
        "x_train,x_test,y_train,y_test=train_test_split(x,y,test_size=0.2,random_state=42)"
      ],
      "execution_count": 0,
      "outputs": []
    },
    {
      "cell_type": "markdown",
      "metadata": {
        "id": "kKh8FGNSHkUj",
        "colab_type": "text"
      },
      "source": [
        "# **Random Forest Classifier Model**"
      ]
    },
    {
      "cell_type": "code",
      "metadata": {
        "id": "BgbgbF9DHols",
        "colab_type": "code",
        "colab": {}
      },
      "source": [
        "model_rf = RandomForestClassifier()\n",
        "\n",
        "param_dist = {\"max_depth\": [3, None],\n",
        "              \"n_estimators\": list(range(10, 200)),\n",
        "              \"max_features\": list(range(1, x_test.shape[1]+1)),\n",
        "              \"min_samples_split\": list(range(2, 11)),\n",
        "              \"min_samples_leaf\": list(range(1, 11)),\n",
        "              \"bootstrap\": [True, False],\n",
        "              \"criterion\": [\"gini\", \"entropy\"]}\n",
        "\n",
        "random_search = RandomizedSearchCV(model_rf, param_distributions=param_dist)\n",
        "random_search.fit(x_train, y_train)\n",
        "preds_rf = random_search.best_estimator_.predict(x_test)\n"
      ],
      "execution_count": 0,
      "outputs": []
    },
    {
      "cell_type": "code",
      "metadata": {
        "id": "bcdkxd7MISzc",
        "colab_type": "code",
        "colab": {
          "base_uri": "https://localhost:8080/",
          "height": 84
        },
        "outputId": "14759f5e-1a85-489c-ec3a-cfac9eff6682"
      },
      "source": [
        "from sklearn.metrics import f1_score\n",
        "from sklearn.metrics import accuracy_score\n",
        "from sklearn.metrics import precision_score\n",
        "from sklearn.metrics import recall_score\n",
        "print('Random Forest F1 Score -',f1_score(y_test,preds_rf))\n",
        "print('Random Forest accuracy Score -',accuracy_score(y_test,preds_rf))\n",
        "print('Random Forest precision Score -',precision_score(y_test,preds_rf))\n",
        "print('Random Forest recall Score -',recall_score(y_test,preds_rf))"
      ],
      "execution_count": 20,
      "outputs": [
        {
          "output_type": "stream",
          "text": [
            "Random Forest F1 Score - 0.6909090909090909\n",
            "Random Forest accuracy Score - 0.7792207792207793\n",
            "Random Forest precision Score - 0.6909090909090909\n",
            "Random Forest recall Score - 0.6909090909090909\n"
          ],
          "name": "stdout"
        }
      ]
    },
    {
      "cell_type": "markdown",
      "metadata": {
        "id": "o1i-Za_3Jb8g",
        "colab_type": "text"
      },
      "source": [
        "# **AdaBoost Classifier model**"
      ]
    },
    {
      "cell_type": "code",
      "metadata": {
        "id": "AHdQLdYoKPcn",
        "colab_type": "code",
        "colab": {}
      },
      "source": [
        "model_ada = AdaBoostClassifier()\n",
        "param_dist = {\"n_estimators\": [10, 100, 200, 400],\n",
        "              \"learning_rate\": [0.001, 0.005, .01, 0.05, 0.1, 0.2, 0.3, 0.4, 0.5, 1, 2, 10, 20]}\n",
        "\n",
        "ada_search = RandomizedSearchCV(model_ada, param_distributions=param_dist)\n",
        "ada_search.fit(x_train, y_train)\n",
        "preds_ad = ada_search.best_estimator_.predict(x_test)"
      ],
      "execution_count": 0,
      "outputs": []
    },
    {
      "cell_type": "code",
      "metadata": {
        "id": "Sza47roUKn8v",
        "colab_type": "code",
        "colab": {
          "base_uri": "https://localhost:8080/",
          "height": 84
        },
        "outputId": "d52d3558-742e-42bf-8ef3-a61383e177be"
      },
      "source": [
        "print('AdaBoost F1 Score -',f1_score(y_test,preds_ad))\n",
        "print('AdaBoost accuracy Score -',accuracy_score(y_test,preds_ad))\n",
        "print('AdaBoost precision Score -',precision_score(y_test,preds_ad))\n",
        "print('AdaBoost recall Score -',recall_score(y_test,preds_ad))"
      ],
      "execution_count": 22,
      "outputs": [
        {
          "output_type": "stream",
          "text": [
            "AdaBoost F1 Score - 0.6534653465346534\n",
            "AdaBoost accuracy Score - 0.7727272727272727\n",
            "AdaBoost precision Score - 0.717391304347826\n",
            "AdaBoost recall Score - 0.6\n"
          ],
          "name": "stdout"
        }
      ]
    },
    {
      "cell_type": "markdown",
      "metadata": {
        "id": "QbGg0k9DK7r5",
        "colab_type": "text"
      },
      "source": [
        "# **SVM Classifier**"
      ]
    },
    {
      "cell_type": "code",
      "metadata": {
        "id": "L9WQYVp-LNst",
        "colab_type": "code",
        "colab": {}
      },
      "source": [
        "model_svc = SVC()\n",
        "param_dist = {\"C\": [0.1, 0.5, 1, 3, 5],\n",
        "              \"kernel\": ['linear','rbf']\n",
        "             }\n",
        "svc_search = RandomizedSearchCV(model_svc, param_distributions=param_dist)\n",
        "svc_search.fit(x_train, y_train)\n",
        "svc_preds = svc_search.best_estimator_.predict(x_test)\n"
      ],
      "execution_count": 0,
      "outputs": []
    },
    {
      "cell_type": "code",
      "metadata": {
        "id": "ghxYsYRrLsuV",
        "colab_type": "code",
        "colab": {
          "base_uri": "https://localhost:8080/",
          "height": 84
        },
        "outputId": "f0a23b8a-1e4c-47c4-fa50-79f90df7b661"
      },
      "source": [
        "print('SVM F1 Score -',f1_score(y_test,svc_preds))\n",
        "print('SVM accuracy Score -',accuracy_score(y_test,svc_preds))\n",
        "print('SVM precision Score -',precision_score(y_test,svc_preds))\n",
        "print('SVM recall Score -',recall_score(y_test,svc_preds))"
      ],
      "execution_count": 28,
      "outputs": [
        {
          "output_type": "stream",
          "text": [
            "SVM F1 Score - 0.6545454545454545\n",
            "SVM accuracy Score - 0.7532467532467533\n",
            "SVM precision Score - 0.6545454545454545\n",
            "SVM recall Score - 0.6545454545454545\n"
          ],
          "name": "stdout"
        }
      ]
    },
    {
      "cell_type": "markdown",
      "metadata": {
        "id": "mF_SjP1hNyWy",
        "colab_type": "text"
      },
      "source": [
        "# Feature importance\n"
      ]
    },
    {
      "cell_type": "code",
      "metadata": {
        "id": "ZPusFooEN1AQ",
        "colab_type": "code",
        "colab": {
          "base_uri": "https://localhost:8080/",
          "height": 295
        },
        "outputId": "4845673f-43bb-4386-875d-6517eb70f383"
      },
      "source": [
        "features = data.columns[:data.shape[1]]\n",
        "importances = random_search.best_estimator_.feature_importances_\n",
        "indices = np.argsort(importances)\n",
        "\n",
        "plt.title('Feature Importances')\n",
        "plt.barh(range(len(indices)), importances[indices], color='b', align='center')\n",
        "plt.yticks(range(len(indices)), features[indices])\n",
        "plt.xlabel('Relative Importance');"
      ],
      "execution_count": 29,
      "outputs": [
        {
          "output_type": "display_data",
          "data": {
            "image/png": "[encoded data removed]",
            "text/plain": [
              "<Figure size 432x288 with 1 Axes>"
            ]
          },
          "metadata": {
            "tags": [],
            "needs_background": "light"
          }
        }
      ]
    }
  ]
}