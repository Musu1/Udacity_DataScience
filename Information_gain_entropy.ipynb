{
  "nbformat": 4,
  "nbformat_minor": 0,
  "metadata": {
    "colab": {
      "name": "Information_gain_entropy.ipynb",
      "provenance": [],
      "authorship_tag": "ABX9TyOnso/DmcCYld3/XzJmRS93",
      "include_colab_link": true
    },
    "kernelspec": {
      "name": "python3",
      "display_name": "Python 3"
    }
  },
  "cells": [
    {
      "cell_type": "markdown",
      "metadata": {
        "id": "view-in-github",
        "colab_type": "text"
      },
      "source": [
        "<a href=\"https://colab.research.google.com/github/Musu1/Udacity_DataScience/blob/master/Information_gain_entropy.ipynb\" target=\"_parent\"><img src=\"https://colab.research.google.com/assets/colab-badge.svg\" alt=\"Open In Colab\"/></a>"
      ]
    },
    {
      "cell_type": "markdown",
      "metadata": {
        "id": "MTiiW5-OyQXI",
        "colab_type": "text"
      },
      "source": [
        "#**Entropy**\n",
        "p1*(log(p1))-p2*(log(p2))-.....-pn*(log(pn))\n",
        "\n",
        "p1=probability of child 1\n",
        "\n",
        "p2=probability of child 2\n",
        "\n",
        "...\n",
        "\n",
        "pn=probability of child n"
      ]
    },
    {
      "cell_type": "markdown",
      "metadata": {
        "id": "0_H5-IZ4zVHw",
        "colab_type": "text"
      },
      "source": [
        "#**Information gain**\n",
        "\n",
        "IG=Entropy(parent)-(average of entropy of child)\n",
        "\n",
        "Here for spliting to make decision trees we split according to the child which splitting has max information gain"
      ]
    },
    {
      "cell_type": "code",
      "metadata": {
        "id": "gDyVfZpK0bfm",
        "colab_type": "code",
        "colab": {}
      },
      "source": [
        ""
      ],
      "execution_count": 0,
      "outputs": []
    }
  ]
}